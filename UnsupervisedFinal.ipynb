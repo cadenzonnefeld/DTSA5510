{
 "cells": [
  {
   "cell_type": "markdown",
   "id": "c430408e",
   "metadata": {},
   "source": [
    "# Oops! I Spilled the Beans!\n",
    "\n",
    "A manufacturing plant that processes and packages dry beans has been looking for a way to improve the efficiency of their processes. In particular, they are seeking to discover improvements that can be made to their packaging process and if there are beans that can be treated similarly since they currently have unique processes for each kind of bean. The plant's hope is that if there are several kind of beans that have similar physical properties they can be processed and packaged in the same manner and even on the same line.\n",
    "\n",
    "The goals for this project is as follows:\n",
    "\n",
    "1. Develop a model that identifies similarities between different kinds of beans.\n",
    "2. Apply the results from the model to make an improvement on the current processes in place at the plant."
   ]
  },
  {
   "cell_type": "markdown",
   "id": "39c1a641",
   "metadata": {},
   "source": [
    "$\\textbf{Citation}$: Dry Bean Dataset. (2020). UCI Machine Learning Repository. https://doi.org/10.24432/C50S4B."
   ]
  },
  {
   "cell_type": "markdown",
   "id": "16ba421f",
   "metadata": {},
   "source": [
    "The data was produced by taking photos of $13,611$ beans with a camera and a computer vision system was utilized to extract features regarding the physical properties of the each image including shape, type, structure, and form.\n",
    "\n",
    "Based on the goals from the plant of identifying characteristic similarities a KMeans clustering model seems to be a suitable approach. A KMeans model will be able to identify similarities between types of beans that would be difficult or impossible for a human to identify just by looking at the data. Furthemore, since each feature save for the target is numeric in nature a KMeans model is an apt choice for this use case."
   ]
  },
  {
   "cell_type": "markdown",
   "id": "ac65406a",
   "metadata": {},
   "source": [
    "## Data Access and Exploratory Data Analysis"
   ]
  },
  {
   "cell_type": "code",
   "execution_count": 1,
   "id": "370997f7",
   "metadata": {},
   "outputs": [],
   "source": [
    "import pandas as pd\n",
    "import numpy as np\n",
    "import pandoc\n",
    "import matplotlib.pyplot as plt\n",
    "import seaborn as sns\n",
    "from sklearn.cluster import KMeans\n",
    "from sklearn.model_selection import train_test_split"
   ]
  },
  {
   "cell_type": "code",
   "execution_count": 391,
   "id": "f51e5372",
   "metadata": {},
   "outputs": [],
   "source": [
    "data = pd.read_csv('beans.csv')"
   ]
  },
  {
   "cell_type": "markdown",
   "id": "6da27852",
   "metadata": {},
   "source": [
    "The data consists of $13,611$ records with $17$ features describing the physical properties of each bean."
   ]
  },
  {
   "cell_type": "code",
   "execution_count": 392,
   "id": "44e91e91",
   "metadata": {},
   "outputs": [
    {
     "data": {
      "text/plain": [
       "(13611, 17)"
      ]
     },
     "execution_count": 392,
     "metadata": {},
     "output_type": "execute_result"
    }
   ],
   "source": [
    "data.shape"
   ]
  },
  {
   "cell_type": "markdown",
   "id": "729d2a3f",
   "metadata": {},
   "source": [
    "Note that class is one of the features in the dataset, this will need to be excluded from the training data since we are leveraging an unsupervised learning approach with which we want the algorithm to identify its own similarities apart from pre-defined labels."
   ]
  },
  {
   "cell_type": "code",
   "execution_count": 393,
   "id": "6c53be6f",
   "metadata": {},
   "outputs": [
    {
     "data": {
      "text/html": [
       "<div>\n",
       "<style scoped>\n",
       "    .dataframe tbody tr th:only-of-type {\n",
       "        vertical-align: middle;\n",
       "    }\n",
       "\n",
       "    .dataframe tbody tr th {\n",
       "        vertical-align: top;\n",
       "    }\n",
       "\n",
       "    .dataframe thead th {\n",
       "        text-align: right;\n",
       "    }\n",
       "</style>\n",
       "<table border=\"1\" class=\"dataframe\">\n",
       "  <thead>\n",
       "    <tr style=\"text-align: right;\">\n",
       "      <th></th>\n",
       "      <th>Area</th>\n",
       "      <th>Perimeter</th>\n",
       "      <th>MajorAxisLength</th>\n",
       "      <th>MinorAxisLength</th>\n",
       "      <th>AspectRation</th>\n",
       "      <th>Eccentricity</th>\n",
       "      <th>ConvexArea</th>\n",
       "      <th>EquivDiameter</th>\n",
       "      <th>Extent</th>\n",
       "      <th>Solidity</th>\n",
       "      <th>roundness</th>\n",
       "      <th>Compactness</th>\n",
       "      <th>ShapeFactor1</th>\n",
       "      <th>ShapeFactor2</th>\n",
       "      <th>ShapeFactor3</th>\n",
       "      <th>ShapeFactor4</th>\n",
       "      <th>Class</th>\n",
       "    </tr>\n",
       "  </thead>\n",
       "  <tbody>\n",
       "    <tr>\n",
       "      <th>0</th>\n",
       "      <td>28395</td>\n",
       "      <td>610.291</td>\n",
       "      <td>208.178117</td>\n",
       "      <td>173.888747</td>\n",
       "      <td>1.197191</td>\n",
       "      <td>0.549812</td>\n",
       "      <td>28715</td>\n",
       "      <td>190.141097</td>\n",
       "      <td>0.763923</td>\n",
       "      <td>0.988856</td>\n",
       "      <td>0.958027</td>\n",
       "      <td>0.913358</td>\n",
       "      <td>0.007332</td>\n",
       "      <td>0.003147</td>\n",
       "      <td>0.834222</td>\n",
       "      <td>0.998724</td>\n",
       "      <td>SEKER</td>\n",
       "    </tr>\n",
       "    <tr>\n",
       "      <th>1</th>\n",
       "      <td>28734</td>\n",
       "      <td>638.018</td>\n",
       "      <td>200.524796</td>\n",
       "      <td>182.734419</td>\n",
       "      <td>1.097356</td>\n",
       "      <td>0.411785</td>\n",
       "      <td>29172</td>\n",
       "      <td>191.272751</td>\n",
       "      <td>0.783968</td>\n",
       "      <td>0.984986</td>\n",
       "      <td>0.887034</td>\n",
       "      <td>0.953861</td>\n",
       "      <td>0.006979</td>\n",
       "      <td>0.003564</td>\n",
       "      <td>0.909851</td>\n",
       "      <td>0.998430</td>\n",
       "      <td>SEKER</td>\n",
       "    </tr>\n",
       "    <tr>\n",
       "      <th>2</th>\n",
       "      <td>29380</td>\n",
       "      <td>624.110</td>\n",
       "      <td>212.826130</td>\n",
       "      <td>175.931143</td>\n",
       "      <td>1.209713</td>\n",
       "      <td>0.562727</td>\n",
       "      <td>29690</td>\n",
       "      <td>193.410904</td>\n",
       "      <td>0.778113</td>\n",
       "      <td>0.989559</td>\n",
       "      <td>0.947849</td>\n",
       "      <td>0.908774</td>\n",
       "      <td>0.007244</td>\n",
       "      <td>0.003048</td>\n",
       "      <td>0.825871</td>\n",
       "      <td>0.999066</td>\n",
       "      <td>SEKER</td>\n",
       "    </tr>\n",
       "    <tr>\n",
       "      <th>3</th>\n",
       "      <td>30008</td>\n",
       "      <td>645.884</td>\n",
       "      <td>210.557999</td>\n",
       "      <td>182.516516</td>\n",
       "      <td>1.153638</td>\n",
       "      <td>0.498616</td>\n",
       "      <td>30724</td>\n",
       "      <td>195.467062</td>\n",
       "      <td>0.782681</td>\n",
       "      <td>0.976696</td>\n",
       "      <td>0.903936</td>\n",
       "      <td>0.928329</td>\n",
       "      <td>0.007017</td>\n",
       "      <td>0.003215</td>\n",
       "      <td>0.861794</td>\n",
       "      <td>0.994199</td>\n",
       "      <td>SEKER</td>\n",
       "    </tr>\n",
       "    <tr>\n",
       "      <th>4</th>\n",
       "      <td>30140</td>\n",
       "      <td>620.134</td>\n",
       "      <td>201.847882</td>\n",
       "      <td>190.279279</td>\n",
       "      <td>1.060798</td>\n",
       "      <td>0.333680</td>\n",
       "      <td>30417</td>\n",
       "      <td>195.896503</td>\n",
       "      <td>0.773098</td>\n",
       "      <td>0.990893</td>\n",
       "      <td>0.984877</td>\n",
       "      <td>0.970516</td>\n",
       "      <td>0.006697</td>\n",
       "      <td>0.003665</td>\n",
       "      <td>0.941900</td>\n",
       "      <td>0.999166</td>\n",
       "      <td>SEKER</td>\n",
       "    </tr>\n",
       "  </tbody>\n",
       "</table>\n",
       "</div>"
      ],
      "text/plain": [
       "    Area  Perimeter  MajorAxisLength  MinorAxisLength  AspectRation  \\\n",
       "0  28395    610.291       208.178117       173.888747      1.197191   \n",
       "1  28734    638.018       200.524796       182.734419      1.097356   \n",
       "2  29380    624.110       212.826130       175.931143      1.209713   \n",
       "3  30008    645.884       210.557999       182.516516      1.153638   \n",
       "4  30140    620.134       201.847882       190.279279      1.060798   \n",
       "\n",
       "   Eccentricity  ConvexArea  EquivDiameter    Extent  Solidity  roundness  \\\n",
       "0      0.549812       28715     190.141097  0.763923  0.988856   0.958027   \n",
       "1      0.411785       29172     191.272751  0.783968  0.984986   0.887034   \n",
       "2      0.562727       29690     193.410904  0.778113  0.989559   0.947849   \n",
       "3      0.498616       30724     195.467062  0.782681  0.976696   0.903936   \n",
       "4      0.333680       30417     195.896503  0.773098  0.990893   0.984877   \n",
       "\n",
       "   Compactness  ShapeFactor1  ShapeFactor2  ShapeFactor3  ShapeFactor4  Class  \n",
       "0     0.913358      0.007332      0.003147      0.834222      0.998724  SEKER  \n",
       "1     0.953861      0.006979      0.003564      0.909851      0.998430  SEKER  \n",
       "2     0.908774      0.007244      0.003048      0.825871      0.999066  SEKER  \n",
       "3     0.928329      0.007017      0.003215      0.861794      0.994199  SEKER  \n",
       "4     0.970516      0.006697      0.003665      0.941900      0.999166  SEKER  "
      ]
     },
     "execution_count": 393,
     "metadata": {},
     "output_type": "execute_result"
    }
   ],
   "source": [
    "data.head()"
   ]
  },
  {
   "cell_type": "markdown",
   "id": "59fa4f27",
   "metadata": {},
   "source": [
    "Looking for the prevalance of missing/null values in the dataset. Thankfully, the provided data is quite clean and has no missing values for any of the features."
   ]
  },
  {
   "cell_type": "code",
   "execution_count": 394,
   "id": "1ce294e0",
   "metadata": {},
   "outputs": [
    {
     "data": {
      "text/plain": [
       "Area               0\n",
       "Perimeter          0\n",
       "MajorAxisLength    0\n",
       "MinorAxisLength    0\n",
       "AspectRation       0\n",
       "Eccentricity       0\n",
       "ConvexArea         0\n",
       "EquivDiameter      0\n",
       "Extent             0\n",
       "Solidity           0\n",
       "roundness          0\n",
       "Compactness        0\n",
       "ShapeFactor1       0\n",
       "ShapeFactor2       0\n",
       "ShapeFactor3       0\n",
       "ShapeFactor4       0\n",
       "Class              0\n",
       "dtype: int64"
      ]
     },
     "execution_count": 394,
     "metadata": {},
     "output_type": "execute_result"
    }
   ],
   "source": [
    "data.isna().sum()"
   ]
  },
  {
   "cell_type": "markdown",
   "id": "f0f365a0",
   "metadata": {},
   "source": [
    "Inspecting data types and summary statistics. With the exception of 'Area' and 'ConvexArea' all of the non-target features are floats while the area features are integers."
   ]
  },
  {
   "cell_type": "code",
   "execution_count": 395,
   "id": "bccf1cf6",
   "metadata": {},
   "outputs": [
    {
     "name": "stdout",
     "output_type": "stream",
     "text": [
      "<class 'pandas.core.frame.DataFrame'>\n",
      "RangeIndex: 13611 entries, 0 to 13610\n",
      "Data columns (total 17 columns):\n",
      " #   Column           Non-Null Count  Dtype  \n",
      "---  ------           --------------  -----  \n",
      " 0   Area             13611 non-null  int64  \n",
      " 1   Perimeter        13611 non-null  float64\n",
      " 2   MajorAxisLength  13611 non-null  float64\n",
      " 3   MinorAxisLength  13611 non-null  float64\n",
      " 4   AspectRation     13611 non-null  float64\n",
      " 5   Eccentricity     13611 non-null  float64\n",
      " 6   ConvexArea       13611 non-null  int64  \n",
      " 7   EquivDiameter    13611 non-null  float64\n",
      " 8   Extent           13611 non-null  float64\n",
      " 9   Solidity         13611 non-null  float64\n",
      " 10  roundness        13611 non-null  float64\n",
      " 11  Compactness      13611 non-null  float64\n",
      " 12  ShapeFactor1     13611 non-null  float64\n",
      " 13  ShapeFactor2     13611 non-null  float64\n",
      " 14  ShapeFactor3     13611 non-null  float64\n",
      " 15  ShapeFactor4     13611 non-null  float64\n",
      " 16  Class            13611 non-null  object \n",
      "dtypes: float64(14), int64(2), object(1)\n",
      "memory usage: 1.8+ MB\n"
     ]
    }
   ],
   "source": [
    "data.info()"
   ]
  },
  {
   "cell_type": "markdown",
   "id": "38c0b9cf",
   "metadata": {},
   "source": [
    "There are no apparent outliers in the dataset based on a cursory evaluation."
   ]
  },
  {
   "cell_type": "code",
   "execution_count": 396,
   "id": "31adad31",
   "metadata": {},
   "outputs": [
    {
     "data": {
      "text/html": [
       "<div>\n",
       "<style scoped>\n",
       "    .dataframe tbody tr th:only-of-type {\n",
       "        vertical-align: middle;\n",
       "    }\n",
       "\n",
       "    .dataframe tbody tr th {\n",
       "        vertical-align: top;\n",
       "    }\n",
       "\n",
       "    .dataframe thead th {\n",
       "        text-align: right;\n",
       "    }\n",
       "</style>\n",
       "<table border=\"1\" class=\"dataframe\">\n",
       "  <thead>\n",
       "    <tr style=\"text-align: right;\">\n",
       "      <th></th>\n",
       "      <th>Area</th>\n",
       "      <th>Perimeter</th>\n",
       "      <th>MajorAxisLength</th>\n",
       "      <th>MinorAxisLength</th>\n",
       "      <th>AspectRation</th>\n",
       "      <th>Eccentricity</th>\n",
       "      <th>ConvexArea</th>\n",
       "      <th>EquivDiameter</th>\n",
       "      <th>Extent</th>\n",
       "      <th>Solidity</th>\n",
       "      <th>roundness</th>\n",
       "      <th>Compactness</th>\n",
       "      <th>ShapeFactor1</th>\n",
       "      <th>ShapeFactor2</th>\n",
       "      <th>ShapeFactor3</th>\n",
       "      <th>ShapeFactor4</th>\n",
       "    </tr>\n",
       "  </thead>\n",
       "  <tbody>\n",
       "    <tr>\n",
       "      <th>count</th>\n",
       "      <td>13611.000000</td>\n",
       "      <td>13611.000000</td>\n",
       "      <td>13611.000000</td>\n",
       "      <td>13611.000000</td>\n",
       "      <td>13611.000000</td>\n",
       "      <td>13611.000000</td>\n",
       "      <td>13611.000000</td>\n",
       "      <td>13611.000000</td>\n",
       "      <td>13611.000000</td>\n",
       "      <td>13611.000000</td>\n",
       "      <td>13611.000000</td>\n",
       "      <td>13611.000000</td>\n",
       "      <td>13611.000000</td>\n",
       "      <td>13611.000000</td>\n",
       "      <td>13611.000000</td>\n",
       "      <td>13611.000000</td>\n",
       "    </tr>\n",
       "    <tr>\n",
       "      <th>mean</th>\n",
       "      <td>53048.284549</td>\n",
       "      <td>855.283459</td>\n",
       "      <td>320.141867</td>\n",
       "      <td>202.270714</td>\n",
       "      <td>1.583242</td>\n",
       "      <td>0.750895</td>\n",
       "      <td>53768.200206</td>\n",
       "      <td>253.064220</td>\n",
       "      <td>0.749733</td>\n",
       "      <td>0.987143</td>\n",
       "      <td>0.873282</td>\n",
       "      <td>0.799864</td>\n",
       "      <td>0.006564</td>\n",
       "      <td>0.001716</td>\n",
       "      <td>0.643590</td>\n",
       "      <td>0.995063</td>\n",
       "    </tr>\n",
       "    <tr>\n",
       "      <th>std</th>\n",
       "      <td>29324.095717</td>\n",
       "      <td>214.289696</td>\n",
       "      <td>85.694186</td>\n",
       "      <td>44.970091</td>\n",
       "      <td>0.246678</td>\n",
       "      <td>0.092002</td>\n",
       "      <td>29774.915817</td>\n",
       "      <td>59.177120</td>\n",
       "      <td>0.049086</td>\n",
       "      <td>0.004660</td>\n",
       "      <td>0.059520</td>\n",
       "      <td>0.061713</td>\n",
       "      <td>0.001128</td>\n",
       "      <td>0.000596</td>\n",
       "      <td>0.098996</td>\n",
       "      <td>0.004366</td>\n",
       "    </tr>\n",
       "    <tr>\n",
       "      <th>min</th>\n",
       "      <td>20420.000000</td>\n",
       "      <td>524.736000</td>\n",
       "      <td>183.601165</td>\n",
       "      <td>122.512653</td>\n",
       "      <td>1.024868</td>\n",
       "      <td>0.218951</td>\n",
       "      <td>20684.000000</td>\n",
       "      <td>161.243764</td>\n",
       "      <td>0.555315</td>\n",
       "      <td>0.919246</td>\n",
       "      <td>0.489618</td>\n",
       "      <td>0.640577</td>\n",
       "      <td>0.002778</td>\n",
       "      <td>0.000564</td>\n",
       "      <td>0.410339</td>\n",
       "      <td>0.947687</td>\n",
       "    </tr>\n",
       "    <tr>\n",
       "      <th>25%</th>\n",
       "      <td>36328.000000</td>\n",
       "      <td>703.523500</td>\n",
       "      <td>253.303633</td>\n",
       "      <td>175.848170</td>\n",
       "      <td>1.432307</td>\n",
       "      <td>0.715928</td>\n",
       "      <td>36714.500000</td>\n",
       "      <td>215.068003</td>\n",
       "      <td>0.718634</td>\n",
       "      <td>0.985670</td>\n",
       "      <td>0.832096</td>\n",
       "      <td>0.762469</td>\n",
       "      <td>0.005900</td>\n",
       "      <td>0.001154</td>\n",
       "      <td>0.581359</td>\n",
       "      <td>0.993703</td>\n",
       "    </tr>\n",
       "    <tr>\n",
       "      <th>50%</th>\n",
       "      <td>44652.000000</td>\n",
       "      <td>794.941000</td>\n",
       "      <td>296.883367</td>\n",
       "      <td>192.431733</td>\n",
       "      <td>1.551124</td>\n",
       "      <td>0.764441</td>\n",
       "      <td>45178.000000</td>\n",
       "      <td>238.438026</td>\n",
       "      <td>0.759859</td>\n",
       "      <td>0.988283</td>\n",
       "      <td>0.883157</td>\n",
       "      <td>0.801277</td>\n",
       "      <td>0.006645</td>\n",
       "      <td>0.001694</td>\n",
       "      <td>0.642044</td>\n",
       "      <td>0.996386</td>\n",
       "    </tr>\n",
       "    <tr>\n",
       "      <th>75%</th>\n",
       "      <td>61332.000000</td>\n",
       "      <td>977.213000</td>\n",
       "      <td>376.495012</td>\n",
       "      <td>217.031741</td>\n",
       "      <td>1.707109</td>\n",
       "      <td>0.810466</td>\n",
       "      <td>62294.000000</td>\n",
       "      <td>279.446467</td>\n",
       "      <td>0.786851</td>\n",
       "      <td>0.990013</td>\n",
       "      <td>0.916869</td>\n",
       "      <td>0.834270</td>\n",
       "      <td>0.007271</td>\n",
       "      <td>0.002170</td>\n",
       "      <td>0.696006</td>\n",
       "      <td>0.997883</td>\n",
       "    </tr>\n",
       "    <tr>\n",
       "      <th>max</th>\n",
       "      <td>254616.000000</td>\n",
       "      <td>1985.370000</td>\n",
       "      <td>738.860154</td>\n",
       "      <td>460.198497</td>\n",
       "      <td>2.430306</td>\n",
       "      <td>0.911423</td>\n",
       "      <td>263261.000000</td>\n",
       "      <td>569.374358</td>\n",
       "      <td>0.866195</td>\n",
       "      <td>0.994677</td>\n",
       "      <td>0.990685</td>\n",
       "      <td>0.987303</td>\n",
       "      <td>0.010451</td>\n",
       "      <td>0.003665</td>\n",
       "      <td>0.974767</td>\n",
       "      <td>0.999733</td>\n",
       "    </tr>\n",
       "  </tbody>\n",
       "</table>\n",
       "</div>"
      ],
      "text/plain": [
       "                Area     Perimeter  MajorAxisLength  MinorAxisLength  \\\n",
       "count   13611.000000  13611.000000     13611.000000     13611.000000   \n",
       "mean    53048.284549    855.283459       320.141867       202.270714   \n",
       "std     29324.095717    214.289696        85.694186        44.970091   \n",
       "min     20420.000000    524.736000       183.601165       122.512653   \n",
       "25%     36328.000000    703.523500       253.303633       175.848170   \n",
       "50%     44652.000000    794.941000       296.883367       192.431733   \n",
       "75%     61332.000000    977.213000       376.495012       217.031741   \n",
       "max    254616.000000   1985.370000       738.860154       460.198497   \n",
       "\n",
       "       AspectRation  Eccentricity     ConvexArea  EquivDiameter        Extent  \\\n",
       "count  13611.000000  13611.000000   13611.000000   13611.000000  13611.000000   \n",
       "mean       1.583242      0.750895   53768.200206     253.064220      0.749733   \n",
       "std        0.246678      0.092002   29774.915817      59.177120      0.049086   \n",
       "min        1.024868      0.218951   20684.000000     161.243764      0.555315   \n",
       "25%        1.432307      0.715928   36714.500000     215.068003      0.718634   \n",
       "50%        1.551124      0.764441   45178.000000     238.438026      0.759859   \n",
       "75%        1.707109      0.810466   62294.000000     279.446467      0.786851   \n",
       "max        2.430306      0.911423  263261.000000     569.374358      0.866195   \n",
       "\n",
       "           Solidity     roundness   Compactness  ShapeFactor1  ShapeFactor2  \\\n",
       "count  13611.000000  13611.000000  13611.000000  13611.000000  13611.000000   \n",
       "mean       0.987143      0.873282      0.799864      0.006564      0.001716   \n",
       "std        0.004660      0.059520      0.061713      0.001128      0.000596   \n",
       "min        0.919246      0.489618      0.640577      0.002778      0.000564   \n",
       "25%        0.985670      0.832096      0.762469      0.005900      0.001154   \n",
       "50%        0.988283      0.883157      0.801277      0.006645      0.001694   \n",
       "75%        0.990013      0.916869      0.834270      0.007271      0.002170   \n",
       "max        0.994677      0.990685      0.987303      0.010451      0.003665   \n",
       "\n",
       "       ShapeFactor3  ShapeFactor4  \n",
       "count  13611.000000  13611.000000  \n",
       "mean       0.643590      0.995063  \n",
       "std        0.098996      0.004366  \n",
       "min        0.410339      0.947687  \n",
       "25%        0.581359      0.993703  \n",
       "50%        0.642044      0.996386  \n",
       "75%        0.696006      0.997883  \n",
       "max        0.974767      0.999733  "
      ]
     },
     "execution_count": 396,
     "metadata": {},
     "output_type": "execute_result"
    }
   ],
   "source": [
    "data.describe()"
   ]
  },
  {
   "cell_type": "markdown",
   "id": "e45186b7",
   "metadata": {},
   "source": [
    "Though there are some outliers according to a box and whisker plot, they are not isolated occurunces indicating that the quality of the measurements appears to be quite consistent."
   ]
  },
  {
   "cell_type": "code",
   "execution_count": 397,
   "id": "3e04e591",
   "metadata": {},
   "outputs": [
    {
     "data": {
      "image/png": "[encoded data removed]",
      "text/plain": [
       "<Figure size 432x288 with 1 Axes>"
      ]
     },
     "metadata": {
      "needs_background": "light"
     },
     "output_type": "display_data"
    },
    {
     "data": {
      "image/png": "[encoded data removed]",
      "text/plain": [
       "<Figure size 432x288 with 1 Axes>"
      ]
     },
     "metadata": {
      "needs_background": "light"
     },
     "output_type": "display_data"
    },
    {
     "data": {
      "image/png": "[encoded data removed]",
      "text/plain": [
       "<Figure size 432x288 with 1 Axes>"
      ]
     },
     "metadata": {
      "needs_background": "light"
     },
     "output_type": "display_data"
    },
    {
     "data": {
      "image/png": "[encoded data removed]",
      "text/plain": [
       "<Figure size 432x288 with 1 Axes>"
      ]
     },
     "metadata": {
      "needs_background": "light"
     },
     "output_type": "display_data"
    },
    {
     "data": {
      "image/png": "[encoded data removed]",
      "text/plain": [
       "<Figure size 432x288 with 1 Axes>"
      ]
     },
     "metadata": {
      "needs_background": "light"
     },
     "output_type": "display_data"
    },
    {
     "data": {
      "image/png": "[encoded data removed]",
      "text/plain": [
       "<Figure size 432x288 with 1 Axes>"
      ]
     },
     "metadata": {
      "needs_background": "light"
     },
     "output_type": "display_data"
    },
    {
     "data": {
      "image/png": "[encoded data removed]",
      "text/plain": [
       "<Figure size 432x288 with 1 Axes>"
      ]
     },
     "metadata": {
      "needs_background": "light"
     },
     "output_type": "display_data"
    },
    {
     "data": {
      "image/png": "[encoded data removed]",
      "text/plain": [
       "<Figure size 432x288 with 1 Axes>"
      ]
     },
     "metadata": {
      "needs_background": "light"
     },
     "output_type": "display_data"
    },
    {
     "data": {
      "image/png": "[encoded data removed]",
      "text/plain": [
       "<Figure size 432x288 with 1 Axes>"
      ]
     },
     "metadata": {
      "needs_background": "light"
     },
     "output_type": "display_data"
    },
    {
     "data": {
      "image/png": "[encoded data removed]",
      "text/plain": [
       "<Figure size 432x288 with 1 Axes>"
      ]
     },
     "metadata": {
      "needs_background": "light"
     },
     "output_type": "display_data"
    },
    {
     "data": {
      "image/png": "[encoded data removed]",
      "text/plain": [
       "<Figure size 432x288 with 1 Axes>"
      ]
     },
     "metadata": {
      "needs_background": "light"
     },
     "output_type": "display_data"
    },
    {
     "data": {
      "image/png": "[encoded data removed]",
      "text/plain": [
       "<Figure size 432x288 with 1 Axes>"
      ]
     },
     "metadata": {
      "needs_background": "light"
     },
     "output_type": "display_data"
    },
    {
     "data": {
      "image/png": "[encoded data removed]",
      "text/plain": [
       "<Figure size 432x288 with 1 Axes>"
      ]
     },
     "metadata": {
      "needs_background": "light"
     },
     "output_type": "display_data"
    },
    {
     "data": {
      "image/png": "[encoded data removed]",
      "text/plain": [
       "<Figure size 432x288 with 1 Axes>"
      ]
     },
     "metadata": {
      "needs_background": "light"
     },
     "output_type": "display_data"
    },
    {
     "data": {
      "image/png": "[encoded data removed]",
      "text/plain": [
       "<Figure size 432x288 with 1 Axes>"
      ]
     },
     "metadata": {
      "needs_background": "light"
     },
     "output_type": "display_data"
    },
    {
     "data": {
      "image/png": "[encoded data removed]",
      "text/plain": [
       "<Figure size 432x288 with 1 Axes>"
      ]
     },
     "metadata": {
      "needs_background": "light"
     },
     "output_type": "display_data"
    },
    {
     "data": {
      "text/plain": [
       "<Figure size 432x288 with 0 Axes>"
      ]
     },
     "metadata": {},
     "output_type": "display_data"
    }
   ],
   "source": [
    "for feature in data.columns[:-1]:\n",
    "    plt.boxplot(data[feature])\n",
    "    plt.show()\n",
    "    plt.clf()"
   ]
  },
  {
   "cell_type": "markdown",
   "id": "b973ee29",
   "metadata": {},
   "source": [
    "Examining the levels and distribution of the target class."
   ]
  },
  {
   "cell_type": "code",
   "execution_count": 398,
   "id": "3bc73f9d",
   "metadata": {},
   "outputs": [
    {
     "name": "stdout",
     "output_type": "stream",
     "text": [
      "DERMASON    3546\n",
      "SIRA        2636\n",
      "SEKER       2027\n",
      "HOROZ       1928\n",
      "CALI        1630\n",
      "BARBUNYA    1322\n",
      "BOMBAY       522\n",
      "Name: Class, dtype: int64\n"
     ]
    },
    {
     "data": {
      "text/plain": [
       "<AxesSubplot:title={'center':'Number of Beans by Kind'}, xlabel='Kind', ylabel='Count'>"
      ]
     },
     "execution_count": 398,
     "metadata": {},
     "output_type": "execute_result"
    },
    {
     "data": {
      "image/png": "[encoded data removed]",
      "text/plain": [
       "<Figure size 432x288 with 1 Axes>"
      ]
     },
     "metadata": {
      "needs_background": "light"
     },
     "output_type": "display_data"
    }
   ],
   "source": [
    "print(data.Class.value_counts())\n",
    "data.Class.value_counts().plot(kind='bar', ylabel='Count', xlabel='Kind', title='Number of Beans by Kind')"
   ]
  },
  {
   "cell_type": "markdown",
   "id": "5bb65076",
   "metadata": {},
   "source": [
    "Since there are nearly three times as many Dermason beans as Barbunya beans we will stratify the sample when we train/test split to alleviate any negative effects that may be caused by class imbalance on the off chance we want to explore classifiction once the KMeans model is fit."
   ]
  },
  {
   "cell_type": "markdown",
   "id": "0f9c3d60",
   "metadata": {},
   "source": [
    "Since the dataset consists of features that measure physical attributes of the beans it is unsurprising that there are strong positive and negative correlations present. For example, it makes sense that as the area of a bean increase the perimeter would also increase. Another benefit from a KMeans model is that it does not hold to the linearity assumptions necessary for a linear model and multicollinearity amongst this number of features will not ruin the model's performance."
   ]
  },
  {
   "cell_type": "code",
   "execution_count": 399,
   "id": "360adb24",
   "metadata": {},
   "outputs": [
    {
     "data": {
      "text/plain": [
       "[Text(0.5, 1.0, 'Correlation Matrix of Features')]"
      ]
     },
     "execution_count": 399,
     "metadata": {},
     "output_type": "execute_result"
    },
    {
     "data": {
      "image/png": "[encoded data removed]",
      "text/plain": [
       "<Figure size 432x288 with 2 Axes>"
      ]
     },
     "metadata": {
      "needs_background": "light"
     },
     "output_type": "display_data"
    }
   ],
   "source": [
    "sns.heatmap(data.corr()).set(title = 'Correlation Matrix of Features')"
   ]
  },
  {
   "cell_type": "markdown",
   "id": "e7dd04e6",
   "metadata": {},
   "source": [
    "### Model Build & Analysis\n",
    "\n",
    "Now that we are familiar with shape, quality, and content of the data we can proceed with fitting a KMeans model to the data. This will allow us to idenfity similarities between the six kinds of beans as well as classify the test set of beans and assign them to their kinds."
   ]
  },
  {
   "cell_type": "markdown",
   "id": "dbdf76d8",
   "metadata": {},
   "source": [
    "We will perform a standard train test split with 70% of the records allotted to the training data on which we will fit the model and the remaining 30% assigned to the test data. As discussed earlier we will stratify the split based on the bean class due to the difference in prevalance between types; this will protect us against class imbalance."
   ]
  },
  {
   "cell_type": "code",
   "execution_count": 409,
   "id": "7800d4e8",
   "metadata": {},
   "outputs": [],
   "source": [
    "X_train, X_test, y_train, y_test = train_test_split(data.iloc[:, :-1], data.iloc[:, -1], test_size=0.3, stratify=data.iloc[:, -1])"
   ]
  },
  {
   "cell_type": "markdown",
   "id": "9adf2049",
   "metadata": {},
   "source": [
    "Fitting a KMeans model with $7$ clusters. In this case we start by specifying the number of clusters to be $7$ as there are $7$ types of beans; however, if we notice there are groups of bean types behaving similarly we will reduce this number to provide more simplicity to the plants business processes."
   ]
  },
  {
   "cell_type": "code",
   "execution_count": 410,
   "id": "5dc33c59",
   "metadata": {},
   "outputs": [],
   "source": [
    "model = KMeans(n_clusters=7, n_init='auto').fit(X_train)"
   ]
  },
  {
   "cell_type": "markdown",
   "id": "1c6b90d0",
   "metadata": {},
   "source": [
    "Using the model to predict clusters for the test(holdout) set, and appending the true clusters and predicted clusters to the test data."
   ]
  },
  {
   "cell_type": "code",
   "execution_count": 411,
   "id": "cc893383",
   "metadata": {},
   "outputs": [],
   "source": [
    "test_result = model.predict(X_test)\n",
    "\n",
    "X_test['true'] = y_test\n",
    "X_test['pred'] = test_result"
   ]
  },
  {
   "cell_type": "markdown",
   "id": "a6c5cae5",
   "metadata": {},
   "source": [
    "Calculating the proportion of true cluster labels (bean types) that belong to each of the predicted clusters."
   ]
  },
  {
   "cell_type": "code",
   "execution_count": 415,
   "id": "f5786f52",
   "metadata": {},
   "outputs": [],
   "source": [
    "props = []\n",
    "for cluster in np.unique(X_test['pred']):\n",
    "    temp = X_test[X_test['pred'] == cluster]\n",
    "    clst = pd.DataFrame(temp.groupby(['pred', 'true']).count().iloc[:, 0])\n",
    "    clst.columns = ['Count']\n",
    "    clst['Proportion'] = clst['Count']/clst.sum()[0]\n",
    "    clst.sort_values(by = 'Proportion', ascending = False, inplace=True)\n",
    "    props.append(clst)\n",
    "props = pd.concat(props)"
   ]
  },
  {
   "cell_type": "code",
   "execution_count": 416,
   "id": "c2c61ab9",
   "metadata": {},
   "outputs": [
    {
     "data": {
      "text/html": [
       "<div>\n",
       "<style scoped>\n",
       "    .dataframe tbody tr th:only-of-type {\n",
       "        vertical-align: middle;\n",
       "    }\n",
       "\n",
       "    .dataframe tbody tr th {\n",
       "        vertical-align: top;\n",
       "    }\n",
       "\n",
       "    .dataframe thead th {\n",
       "        text-align: right;\n",
       "    }\n",
       "</style>\n",
       "<table border=\"1\" class=\"dataframe\">\n",
       "  <thead>\n",
       "    <tr style=\"text-align: right;\">\n",
       "      <th></th>\n",
       "      <th></th>\n",
       "      <th>Count</th>\n",
       "      <th>Proportion</th>\n",
       "    </tr>\n",
       "    <tr>\n",
       "      <th>pred</th>\n",
       "      <th>true</th>\n",
       "      <th></th>\n",
       "      <th></th>\n",
       "    </tr>\n",
       "  </thead>\n",
       "  <tbody>\n",
       "    <tr>\n",
       "      <th rowspan=\"3\" valign=\"top\">0</th>\n",
       "      <th>CALI</th>\n",
       "      <td>371</td>\n",
       "      <td>0.635274</td>\n",
       "    </tr>\n",
       "    <tr>\n",
       "      <th>BARBUNYA</th>\n",
       "      <td>204</td>\n",
       "      <td>0.349315</td>\n",
       "    </tr>\n",
       "    <tr>\n",
       "      <th>HOROZ</th>\n",
       "      <td>9</td>\n",
       "      <td>0.015411</td>\n",
       "    </tr>\n",
       "    <tr>\n",
       "      <th rowspan=\"6\" valign=\"top\">1</th>\n",
       "      <th>SIRA</th>\n",
       "      <td>687</td>\n",
       "      <td>0.484144</td>\n",
       "    </tr>\n",
       "    <tr>\n",
       "      <th>SEKER</th>\n",
       "      <td>348</td>\n",
       "      <td>0.245243</td>\n",
       "    </tr>\n",
       "    <tr>\n",
       "      <th>HOROZ</th>\n",
       "      <td>235</td>\n",
       "      <td>0.165610</td>\n",
       "    </tr>\n",
       "    <tr>\n",
       "      <th>DERMASON</th>\n",
       "      <td>127</td>\n",
       "      <td>0.089500</td>\n",
       "    </tr>\n",
       "    <tr>\n",
       "      <th>BARBUNYA</th>\n",
       "      <td>20</td>\n",
       "      <td>0.014094</td>\n",
       "    </tr>\n",
       "    <tr>\n",
       "      <th>CALI</th>\n",
       "      <td>2</td>\n",
       "      <td>0.001409</td>\n",
       "    </tr>\n",
       "    <tr>\n",
       "      <th>2</th>\n",
       "      <th>BOMBAY</th>\n",
       "      <td>78</td>\n",
       "      <td>1.000000</td>\n",
       "    </tr>\n",
       "    <tr>\n",
       "      <th rowspan=\"5\" valign=\"top\">3</th>\n",
       "      <th>HOROZ</th>\n",
       "      <td>324</td>\n",
       "      <td>0.490909</td>\n",
       "    </tr>\n",
       "    <tr>\n",
       "      <th>BARBUNYA</th>\n",
       "      <td>173</td>\n",
       "      <td>0.262121</td>\n",
       "    </tr>\n",
       "    <tr>\n",
       "      <th>CALI</th>\n",
       "      <td>115</td>\n",
       "      <td>0.174242</td>\n",
       "    </tr>\n",
       "    <tr>\n",
       "      <th>SIRA</th>\n",
       "      <td>40</td>\n",
       "      <td>0.060606</td>\n",
       "    </tr>\n",
       "    <tr>\n",
       "      <th>SEKER</th>\n",
       "      <td>8</td>\n",
       "      <td>0.012121</td>\n",
       "    </tr>\n",
       "    <tr>\n",
       "      <th rowspan=\"4\" valign=\"top\">4</th>\n",
       "      <th>DERMASON</th>\n",
       "      <td>937</td>\n",
       "      <td>0.741884</td>\n",
       "    </tr>\n",
       "    <tr>\n",
       "      <th>SEKER</th>\n",
       "      <td>252</td>\n",
       "      <td>0.199525</td>\n",
       "    </tr>\n",
       "    <tr>\n",
       "      <th>SIRA</th>\n",
       "      <td>64</td>\n",
       "      <td>0.050673</td>\n",
       "    </tr>\n",
       "    <tr>\n",
       "      <th>HOROZ</th>\n",
       "      <td>10</td>\n",
       "      <td>0.007918</td>\n",
       "    </tr>\n",
       "    <tr>\n",
       "      <th rowspan=\"2\" valign=\"top\">5</th>\n",
       "      <th>BOMBAY</th>\n",
       "      <td>50</td>\n",
       "      <td>0.980392</td>\n",
       "    </tr>\n",
       "    <tr>\n",
       "      <th>CALI</th>\n",
       "      <td>1</td>\n",
       "      <td>0.019608</td>\n",
       "    </tr>\n",
       "    <tr>\n",
       "      <th>6</th>\n",
       "      <th>BOMBAY</th>\n",
       "      <td>29</td>\n",
       "      <td>1.000000</td>\n",
       "    </tr>\n",
       "  </tbody>\n",
       "</table>\n",
       "</div>"
      ],
      "text/plain": [
       "               Count  Proportion\n",
       "pred true                       \n",
       "0    CALI        371    0.635274\n",
       "     BARBUNYA    204    0.349315\n",
       "     HOROZ         9    0.015411\n",
       "1    SIRA        687    0.484144\n",
       "     SEKER       348    0.245243\n",
       "     HOROZ       235    0.165610\n",
       "     DERMASON    127    0.089500\n",
       "     BARBUNYA     20    0.014094\n",
       "     CALI          2    0.001409\n",
       "2    BOMBAY       78    1.000000\n",
       "3    HOROZ       324    0.490909\n",
       "     BARBUNYA    173    0.262121\n",
       "     CALI        115    0.174242\n",
       "     SIRA         40    0.060606\n",
       "     SEKER         8    0.012121\n",
       "4    DERMASON    937    0.741884\n",
       "     SEKER       252    0.199525\n",
       "     SIRA         64    0.050673\n",
       "     HOROZ        10    0.007918\n",
       "5    BOMBAY       50    0.980392\n",
       "     CALI          1    0.019608\n",
       "6    BOMBAY       29    1.000000"
      ]
     },
     "execution_count": 416,
     "metadata": {},
     "output_type": "execute_result"
    }
   ],
   "source": [
    "props"
   ]
  },
  {
   "cell_type": "markdown",
   "id": "dd0ed6a5",
   "metadata": {},
   "source": [
    "From the proportions shown above we can glean several takeways. First of all, the KMeans model does not appear to perform exceedingly well in classification as most of the predicted clusters have a mixed bag of bean types. If each of the bean types had distinct physical properties we would see each predicted cluster have a more homogenous collection of bean types.\n",
    "\n",
    "What we can gather is that there are four distinct groupings that emerge from our clustering efforts.\n",
    "1. The Bombay beans are quite distinct as they account for three small clusters (2, 5, 6) in which they are the leading factors.\n",
    "2. The Cali & Barbunya beans account for cluster 0 and show strong similarity as well as their seconary association in cluster 3\n",
    "3. The Dermason beans are the leading component in cluster 4 and show less similarity to other kinds of beans\n",
    "4. The Sira, Seker, & Horoz beans are in clusters 1 & 3 and have similar physical attributes."
   ]
  },
  {
   "cell_type": "markdown",
   "id": "089717e9",
   "metadata": {},
   "source": [
    "Having started with $7$ clusters corresponding to the number of bean types we will now re-fit the KMeans clustering model with $4$ clusters since we identified $4$ noticeable segments from the original model fit."
   ]
  },
  {
   "cell_type": "code",
   "execution_count": 444,
   "id": "5ea5a714",
   "metadata": {},
   "outputs": [
    {
     "name": "stderr",
     "output_type": "stream",
     "text": [
      "C:\\Users\\czonnefeld\\Anaconda3\\lib\\site-packages\\sklearn\\cluster\\_kmeans.py:870: FutureWarning: The default value of `n_init` will change from 10 to 'auto' in 1.4. Set the value of `n_init` explicitly to suppress the warning\n",
      "  warnings.warn(\n"
     ]
    }
   ],
   "source": [
    "new_model = KMeans(4).fit(X_train)"
   ]
  },
  {
   "cell_type": "code",
   "execution_count": 445,
   "id": "1b13a1c3",
   "metadata": {},
   "outputs": [],
   "source": [
    "new_results = new_model.predict(X_test.iloc[:, :-2])"
   ]
  },
  {
   "cell_type": "code",
   "execution_count": 446,
   "id": "0d3c6d1f",
   "metadata": {},
   "outputs": [],
   "source": [
    "X_test['true'] = y_test\n",
    "X_test['pred'] = new_results"
   ]
  },
  {
   "cell_type": "code",
   "execution_count": 447,
   "id": "1d6ff99f",
   "metadata": {},
   "outputs": [],
   "source": [
    "props = []\n",
    "for cluster in np.unique(X_test['pred']):\n",
    "    temp = X_test[X_test['pred'] == cluster]\n",
    "    clst = pd.DataFrame(temp.groupby(['pred', 'true']).count().iloc[:, 0])\n",
    "    clst.columns = ['Count']\n",
    "    clst['Proportion'] = clst['Count']/clst.sum()[0]\n",
    "    clst.sort_values(by = 'Proportion', ascending = False, inplace=True)\n",
    "    props.append(clst)\n",
    "props = pd.concat(props)"
   ]
  },
  {
   "cell_type": "code",
   "execution_count": 448,
   "id": "c4488577",
   "metadata": {},
   "outputs": [
    {
     "data": {
      "text/html": [
       "<div>\n",
       "<style scoped>\n",
       "    .dataframe tbody tr th:only-of-type {\n",
       "        vertical-align: middle;\n",
       "    }\n",
       "\n",
       "    .dataframe tbody tr th {\n",
       "        vertical-align: top;\n",
       "    }\n",
       "\n",
       "    .dataframe thead th {\n",
       "        text-align: right;\n",
       "    }\n",
       "</style>\n",
       "<table border=\"1\" class=\"dataframe\">\n",
       "  <thead>\n",
       "    <tr style=\"text-align: right;\">\n",
       "      <th></th>\n",
       "      <th></th>\n",
       "      <th>Count</th>\n",
       "      <th>Proportion</th>\n",
       "    </tr>\n",
       "    <tr>\n",
       "      <th>pred</th>\n",
       "      <th>true</th>\n",
       "      <th></th>\n",
       "      <th></th>\n",
       "    </tr>\n",
       "  </thead>\n",
       "  <tbody>\n",
       "    <tr>\n",
       "      <th rowspan=\"4\" valign=\"top\">0</th>\n",
       "      <th>DERMASON</th>\n",
       "      <td>1064</td>\n",
       "      <td>0.586226</td>\n",
       "    </tr>\n",
       "    <tr>\n",
       "      <th>SEKER</th>\n",
       "      <td>448</td>\n",
       "      <td>0.246832</td>\n",
       "    </tr>\n",
       "    <tr>\n",
       "      <th>SIRA</th>\n",
       "      <td>259</td>\n",
       "      <td>0.142700</td>\n",
       "    </tr>\n",
       "    <tr>\n",
       "      <th>HOROZ</th>\n",
       "      <td>44</td>\n",
       "      <td>0.024242</td>\n",
       "    </tr>\n",
       "    <tr>\n",
       "      <th rowspan=\"4\" valign=\"top\">1</th>\n",
       "      <th>CALI</th>\n",
       "      <td>454</td>\n",
       "      <td>0.553659</td>\n",
       "    </tr>\n",
       "    <tr>\n",
       "      <th>BARBUNYA</th>\n",
       "      <td>304</td>\n",
       "      <td>0.370732</td>\n",
       "    </tr>\n",
       "    <tr>\n",
       "      <th>HOROZ</th>\n",
       "      <td>61</td>\n",
       "      <td>0.074390</td>\n",
       "    </tr>\n",
       "    <tr>\n",
       "      <th>SIRA</th>\n",
       "      <td>1</td>\n",
       "      <td>0.001220</td>\n",
       "    </tr>\n",
       "    <tr>\n",
       "      <th>2</th>\n",
       "      <th>BOMBAY</th>\n",
       "      <td>157</td>\n",
       "      <td>1.000000</td>\n",
       "    </tr>\n",
       "    <tr>\n",
       "      <th rowspan=\"5\" valign=\"top\">3</th>\n",
       "      <th>SIRA</th>\n",
       "      <td>531</td>\n",
       "      <td>0.410991</td>\n",
       "    </tr>\n",
       "    <tr>\n",
       "      <th>HOROZ</th>\n",
       "      <td>473</td>\n",
       "      <td>0.366099</td>\n",
       "    </tr>\n",
       "    <tr>\n",
       "      <th>SEKER</th>\n",
       "      <td>160</td>\n",
       "      <td>0.123839</td>\n",
       "    </tr>\n",
       "    <tr>\n",
       "      <th>BARBUNYA</th>\n",
       "      <td>93</td>\n",
       "      <td>0.071981</td>\n",
       "    </tr>\n",
       "    <tr>\n",
       "      <th>CALI</th>\n",
       "      <td>35</td>\n",
       "      <td>0.027090</td>\n",
       "    </tr>\n",
       "  </tbody>\n",
       "</table>\n",
       "</div>"
      ],
      "text/plain": [
       "               Count  Proportion\n",
       "pred true                       \n",
       "0    DERMASON   1064    0.586226\n",
       "     SEKER       448    0.246832\n",
       "     SIRA        259    0.142700\n",
       "     HOROZ        44    0.024242\n",
       "1    CALI        454    0.553659\n",
       "     BARBUNYA    304    0.370732\n",
       "     HOROZ        61    0.074390\n",
       "     SIRA          1    0.001220\n",
       "2    BOMBAY      157    1.000000\n",
       "3    SIRA        531    0.410991\n",
       "     HOROZ       473    0.366099\n",
       "     SEKER       160    0.123839\n",
       "     BARBUNYA     93    0.071981\n",
       "     CALI         35    0.027090"
      ]
     },
     "execution_count": 448,
     "metadata": {},
     "output_type": "execute_result"
    }
   ],
   "source": [
    "props"
   ]
  },
  {
   "cell_type": "markdown",
   "id": "6fefaadf",
   "metadata": {},
   "source": [
    "With the reduced number of clusters we see the groupings harden and crystalize. The one change to note is that the Seker beans now associate more closley with Dermason now that there are less clusters to chose from.\n",
    "\n",
    "The final clusters are as follows:\n",
    "\n",
    "0. The Dermason & Seker beans share similarity and have some secondary similarity to the Sira beans.\n",
    "1. The Cali & Barbunya beans show strong physical similarity and seaprate well from the other types.\n",
    "2. The Bombay beans are quite distinct as they perferctly separate from all of the other beans in the sample.\n",
    "3. The Sira & Horoz beans share similar physical attributes with a secondary similarity to Seker beans."
   ]
  },
  {
   "cell_type": "markdown",
   "id": "389ee86e",
   "metadata": {},
   "source": [
    "### Conclusions\n",
    "\n",
    "The main takeaway from this project is that of the seven kinds of dry beans processed and packaged by this manufacturing plant they can be reduced to four groups (or clusters) that share strikingly similar physical characteristics. This will allow the plant to reduce the number of methods for processing and packaging from seven down to four. Not only will this increase efficiency, it will also provide more simplicity and a reduce in cost.\n",
    "\n",
    "The groups of similar bean kinds that can share manufacturing processes are:\n",
    "\n",
    "0. Dermason & Seker\n",
    "1. Cali & Barbunya\n",
    "2. Bombay\n",
    "3. Sira & Horoz"
   ]
  }
 ],
 "metadata": {
  "kernelspec": {
   "display_name": "Python 3 (ipykernel)",
   "language": "python",
   "name": "python3"
  },
  "language_info": {
   "codemirror_mode": {
    "name": "ipython",
    "version": 3
   },
   "file_extension": ".py",
   "mimetype": "text/x-python",
   "name": "python",
   "nbconvert_exporter": "python",
   "pygments_lexer": "ipython3",
   "version": "3.9.7"
  }
 },
 "nbformat": 4,
 "nbformat_minor": 5
}
